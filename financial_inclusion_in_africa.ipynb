{
 "cells": [
  {
   "cell_type": "code",
   "execution_count": 1,
   "id": "b61e498d-bbe6-413b-9a39-503c656ffaee",
   "metadata": {},
   "outputs": [],
   "source": [
    "import pandas as pd\n",
    "import seaborn as sns\n",
    "import numpy as np\n",
    "from dython import nominal\n",
    "import matplotlib.pyplot as plt"
   ]
  },
  {
   "cell_type": "code",
   "execution_count": 2,
   "id": "7209e609-17d3-4666-bcf4-a6b80ee5217a",
   "metadata": {},
   "outputs": [],
   "source": [
    "df_train=pd.read_csv(\"train.csv\")\n",
    "df_test=pd.read_csv(\"test.csv\")"
   ]
  },
  {
   "cell_type": "code",
   "execution_count": 3,
   "id": "8fa3a438-c0ed-450a-8c7d-098e5639fbd0",
   "metadata": {},
   "outputs": [
    {
     "data": {
      "text/html": [
       "<div>\n",
       "<style scoped>\n",
       "    .dataframe tbody tr th:only-of-type {\n",
       "        vertical-align: middle;\n",
       "    }\n",
       "\n",
       "    .dataframe tbody tr th {\n",
       "        vertical-align: top;\n",
       "    }\n",
       "\n",
       "    .dataframe thead th {\n",
       "        text-align: right;\n",
       "    }\n",
       "</style>\n",
       "<table border=\"1\" class=\"dataframe\">\n",
       "  <thead>\n",
       "    <tr style=\"text-align: right;\">\n",
       "      <th></th>\n",
       "      <th>country</th>\n",
       "      <th>year</th>\n",
       "      <th>uniqueid</th>\n",
       "      <th>location_type</th>\n",
       "      <th>cellphone_access</th>\n",
       "      <th>household_size</th>\n",
       "      <th>age_of_respondent</th>\n",
       "      <th>gender_of_respondent</th>\n",
       "      <th>relationship_with_head</th>\n",
       "      <th>marital_status</th>\n",
       "      <th>education_level</th>\n",
       "      <th>job_type</th>\n",
       "    </tr>\n",
       "  </thead>\n",
       "  <tbody>\n",
       "    <tr>\n",
       "      <th>0</th>\n",
       "      <td>Kenya</td>\n",
       "      <td>2018</td>\n",
       "      <td>uniqueid_6056</td>\n",
       "      <td>Urban</td>\n",
       "      <td>Yes</td>\n",
       "      <td>3</td>\n",
       "      <td>30</td>\n",
       "      <td>Male</td>\n",
       "      <td>Head of Household</td>\n",
       "      <td>Married/Living together</td>\n",
       "      <td>Secondary education</td>\n",
       "      <td>Formally employed Government</td>\n",
       "    </tr>\n",
       "    <tr>\n",
       "      <th>1</th>\n",
       "      <td>Kenya</td>\n",
       "      <td>2018</td>\n",
       "      <td>uniqueid_6060</td>\n",
       "      <td>Urban</td>\n",
       "      <td>Yes</td>\n",
       "      <td>7</td>\n",
       "      <td>51</td>\n",
       "      <td>Male</td>\n",
       "      <td>Head of Household</td>\n",
       "      <td>Married/Living together</td>\n",
       "      <td>Vocational/Specialised training</td>\n",
       "      <td>Formally employed Private</td>\n",
       "    </tr>\n",
       "    <tr>\n",
       "      <th>2</th>\n",
       "      <td>Kenya</td>\n",
       "      <td>2018</td>\n",
       "      <td>uniqueid_6065</td>\n",
       "      <td>Rural</td>\n",
       "      <td>No</td>\n",
       "      <td>3</td>\n",
       "      <td>77</td>\n",
       "      <td>Female</td>\n",
       "      <td>Parent</td>\n",
       "      <td>Married/Living together</td>\n",
       "      <td>No formal education</td>\n",
       "      <td>Remittance Dependent</td>\n",
       "    </tr>\n",
       "    <tr>\n",
       "      <th>3</th>\n",
       "      <td>Kenya</td>\n",
       "      <td>2018</td>\n",
       "      <td>uniqueid_6072</td>\n",
       "      <td>Rural</td>\n",
       "      <td>No</td>\n",
       "      <td>6</td>\n",
       "      <td>39</td>\n",
       "      <td>Female</td>\n",
       "      <td>Head of Household</td>\n",
       "      <td>Married/Living together</td>\n",
       "      <td>Primary education</td>\n",
       "      <td>Remittance Dependent</td>\n",
       "    </tr>\n",
       "    <tr>\n",
       "      <th>4</th>\n",
       "      <td>Kenya</td>\n",
       "      <td>2018</td>\n",
       "      <td>uniqueid_6073</td>\n",
       "      <td>Urban</td>\n",
       "      <td>No</td>\n",
       "      <td>3</td>\n",
       "      <td>16</td>\n",
       "      <td>Male</td>\n",
       "      <td>Child</td>\n",
       "      <td>Single/Never Married</td>\n",
       "      <td>Secondary education</td>\n",
       "      <td>Remittance Dependent</td>\n",
       "    </tr>\n",
       "  </tbody>\n",
       "</table>\n",
       "</div>"
      ],
      "text/plain": [
       "  country  year       uniqueid location_type cellphone_access  household_size  \\\n",
       "0   Kenya  2018  uniqueid_6056         Urban              Yes               3   \n",
       "1   Kenya  2018  uniqueid_6060         Urban              Yes               7   \n",
       "2   Kenya  2018  uniqueid_6065         Rural               No               3   \n",
       "3   Kenya  2018  uniqueid_6072         Rural               No               6   \n",
       "4   Kenya  2018  uniqueid_6073         Urban               No               3   \n",
       "\n",
       "   age_of_respondent gender_of_respondent relationship_with_head  \\\n",
       "0                 30                 Male      Head of Household   \n",
       "1                 51                 Male      Head of Household   \n",
       "2                 77               Female                 Parent   \n",
       "3                 39               Female      Head of Household   \n",
       "4                 16                 Male                  Child   \n",
       "\n",
       "            marital_status                  education_level  \\\n",
       "0  Married/Living together              Secondary education   \n",
       "1  Married/Living together  Vocational/Specialised training   \n",
       "2  Married/Living together              No formal education   \n",
       "3  Married/Living together                Primary education   \n",
       "4     Single/Never Married              Secondary education   \n",
       "\n",
       "                       job_type  \n",
       "0  Formally employed Government  \n",
       "1     Formally employed Private  \n",
       "2          Remittance Dependent  \n",
       "3          Remittance Dependent  \n",
       "4          Remittance Dependent  "
      ]
     },
     "execution_count": 3,
     "metadata": {},
     "output_type": "execute_result"
    }
   ],
   "source": [
    "#df_test.set_index('uniqueid')\n",
    "df_test.head()"
   ]
  },
  {
   "cell_type": "code",
   "execution_count": 4,
   "id": "760042fb-b243-4758-9563-101e9c9cd419",
   "metadata": {},
   "outputs": [
    {
     "data": {
      "text/plain": [
       "(23524, 13)"
      ]
     },
     "execution_count": 4,
     "metadata": {},
     "output_type": "execute_result"
    }
   ],
   "source": [
    "#check size of data\n",
    "df_train.shape"
   ]
  },
  {
   "cell_type": "markdown",
   "id": "5fad9289-13bd-486e-87f5-8a2286bf26f2",
   "metadata": {},
   "source": [
    "##### 23524 observations\n",
    "##### 13 columns"
   ]
  },
  {
   "cell_type": "code",
   "execution_count": 5,
   "id": "af131538-d501-43b5-8939-fb1f0c9c4feb",
   "metadata": {},
   "outputs": [
    {
     "data": {
      "text/plain": [
       "country                      4\n",
       "year                         3\n",
       "uniqueid                  8735\n",
       "bank_account                 2\n",
       "location_type                2\n",
       "cellphone_access             2\n",
       "household_size              20\n",
       "age_of_respondent           85\n",
       "gender_of_respondent         2\n",
       "relationship_with_head       6\n",
       "marital_status               5\n",
       "education_level              6\n",
       "job_type                    10\n",
       "dtype: int64"
      ]
     },
     "execution_count": 5,
     "metadata": {},
     "output_type": "execute_result"
    }
   ],
   "source": [
    "#check unique values for each column\n",
    "df_train.nunique()"
   ]
  },
  {
   "cell_type": "code",
   "execution_count": 6,
   "id": "8ae677d3-8fac-4961-812c-e2eaccaa3d52",
   "metadata": {},
   "outputs": [
    {
     "name": "stdout",
     "output_type": "stream",
     "text": [
      "country ['Kenya' 'Rwanda' 'Tanzania' 'Uganda']\n",
      "year [2018 2016 2017]\n",
      "uniqueid ['uniqueid_1' 'uniqueid_2' 'uniqueid_3' ... 'uniqueid_8757'\n",
      " 'uniqueid_8758' 'uniqueid_8759']\n",
      "bank_account ['Yes' 'No']\n",
      "location_type ['Rural' 'Urban']\n",
      "cellphone_access ['Yes' 'No']\n",
      "household_size [ 3  5  8  7  1  6  4 10  2 11  9 12 16 15 13 14 21 18 17 20]\n",
      "age_of_respondent [ 24  70  26  34  32  42  54  76  40  69  64  31  38  47  27  48  25  21\n",
      "  18  22  58  55  62  29  35  45  67  19  80  66  50  33  28  51  16  17\n",
      "  30  37  59  65  46  56  52  23  43  49  44  72  53  63  39  81  78  36\n",
      "  20  60  95  71  57  85  68  41  61  75  86  73  93  74  88  90  77  84\n",
      "  82  89  79  83  94  87  92  91  98  97  96  99 100]\n",
      "gender_of_respondent ['Female' 'Male']\n",
      "relationship_with_head ['Spouse' 'Head of Household' 'Other relative' 'Child' 'Parent'\n",
      " 'Other non-relatives']\n",
      "marital_status ['Married/Living together' 'Widowed' 'Single/Never Married'\n",
      " 'Divorced/Seperated' 'Dont know']\n",
      "education_level ['Secondary education' 'No formal education'\n",
      " 'Vocational/Specialised training' 'Primary education'\n",
      " 'Tertiary education' 'Other/Dont know/RTA']\n",
      "job_type ['Self employed' 'Government Dependent' 'Formally employed Private'\n",
      " 'Informally employed' 'Formally employed Government'\n",
      " 'Farming and Fishing' 'Remittance Dependent' 'Other Income'\n",
      " 'Dont Know/Refuse to answer' 'No Income']\n"
     ]
    }
   ],
   "source": [
    "for column in df_train.columns:\n",
    "    print(column, df_train[column].unique())\n",
    "    "
   ]
  },
  {
   "cell_type": "markdown",
   "id": "cdd3ce1b-4b50-458f-9074-273a5b0b50ad",
   "metadata": {},
   "source": [
    "##### The data consisting in:\n",
    "##### Four countries: Kenya, Rwanda, Tanzania, and Uganda;\n",
    "##### Three years: 2016, 2017, and 2018;\n",
    "##### 8759 interviewees;\n",
    "##### 2 regions: Rural and Urban;\n",
    "##### Household_size (number of people living in the house) in [1,21];\n",
    "##### Cellphone_access: yes (have access to a cellphone) and no (do not have access to a cellphone);\n",
    "##### Age: in [16, 100];\n",
    "##### Gender: Female and Male;\n",
    "##### Relationship_with_head: spouse, head of household, other relative, child, parent, other no-relatives, dont know;\n",
    "##### Marital status: married, widowed, single, divorced/seperated, dont know;\n",
    "##### Education level: secondary education, no formal education, Vocational/Specialised training, Primary education, ertiary education, and Other/Dont know/RTA;\n",
    "##### Job type: Self employed, Government Dependent, Formally employed Private, Informally employed,Formally employed Government, Farming and Fishing, Remittance Dependent, Other Income, Dont Know/Refuse to answer, and No Income;\n",
    "##### Bank account: Yes(Have a bank account), no (do not have a bank account)"
   ]
  },
  {
   "cell_type": "code",
   "execution_count": 7,
   "id": "b658c23c-ddd5-4e3e-95e1-a88b67557d06",
   "metadata": {},
   "outputs": [],
   "source": [
    "def createcolum(df_train):\n",
    "    df_train[\"unique_id\"]=df_train[\"uniqueid\"] + \" \" + \"x\"+\" \"+df_train[\"country\"]\n",
    "    # shift column 'unique_id' to first position\n",
    "    first_column = df_train.pop('unique_id')  \n",
    "    # insert column using insert(position,column_name,first_column)\n",
    "    df_train.insert(0, 'unique_id', first_column)\n",
    "    df_train.drop('uniqueid',axis=1,inplace=True)\n",
    "    df_train.drop('year',axis=1,inplace=True)\n",
    "    return df_train\n",
    "df_train=createcolum(df_train)"
   ]
  },
  {
   "cell_type": "code",
   "execution_count": 8,
   "id": "b691ad4d-87bc-45f7-a5a2-6f91717b4e1d",
   "metadata": {},
   "outputs": [
    {
     "data": {
      "text/html": [
       "<div>\n",
       "<style scoped>\n",
       "    .dataframe tbody tr th:only-of-type {\n",
       "        vertical-align: middle;\n",
       "    }\n",
       "\n",
       "    .dataframe tbody tr th {\n",
       "        vertical-align: top;\n",
       "    }\n",
       "\n",
       "    .dataframe thead th {\n",
       "        text-align: right;\n",
       "    }\n",
       "</style>\n",
       "<table border=\"1\" class=\"dataframe\">\n",
       "  <thead>\n",
       "    <tr style=\"text-align: right;\">\n",
       "      <th></th>\n",
       "      <th>unique_id</th>\n",
       "      <th>country</th>\n",
       "      <th>bank_account</th>\n",
       "      <th>location_type</th>\n",
       "      <th>cellphone_access</th>\n",
       "      <th>household_size</th>\n",
       "      <th>age_of_respondent</th>\n",
       "      <th>gender_of_respondent</th>\n",
       "      <th>relationship_with_head</th>\n",
       "      <th>marital_status</th>\n",
       "      <th>education_level</th>\n",
       "      <th>job_type</th>\n",
       "    </tr>\n",
       "  </thead>\n",
       "  <tbody>\n",
       "    <tr>\n",
       "      <th>0</th>\n",
       "      <td>uniqueid_1 x Kenya</td>\n",
       "      <td>Kenya</td>\n",
       "      <td>Yes</td>\n",
       "      <td>Rural</td>\n",
       "      <td>Yes</td>\n",
       "      <td>3</td>\n",
       "      <td>24</td>\n",
       "      <td>Female</td>\n",
       "      <td>Spouse</td>\n",
       "      <td>Married/Living together</td>\n",
       "      <td>Secondary education</td>\n",
       "      <td>Self employed</td>\n",
       "    </tr>\n",
       "    <tr>\n",
       "      <th>1</th>\n",
       "      <td>uniqueid_2 x Kenya</td>\n",
       "      <td>Kenya</td>\n",
       "      <td>No</td>\n",
       "      <td>Rural</td>\n",
       "      <td>No</td>\n",
       "      <td>5</td>\n",
       "      <td>70</td>\n",
       "      <td>Female</td>\n",
       "      <td>Head of Household</td>\n",
       "      <td>Widowed</td>\n",
       "      <td>No formal education</td>\n",
       "      <td>Government Dependent</td>\n",
       "    </tr>\n",
       "    <tr>\n",
       "      <th>2</th>\n",
       "      <td>uniqueid_3 x Kenya</td>\n",
       "      <td>Kenya</td>\n",
       "      <td>Yes</td>\n",
       "      <td>Urban</td>\n",
       "      <td>Yes</td>\n",
       "      <td>5</td>\n",
       "      <td>26</td>\n",
       "      <td>Male</td>\n",
       "      <td>Other relative</td>\n",
       "      <td>Single/Never Married</td>\n",
       "      <td>Vocational/Specialised training</td>\n",
       "      <td>Self employed</td>\n",
       "    </tr>\n",
       "    <tr>\n",
       "      <th>3</th>\n",
       "      <td>uniqueid_4 x Kenya</td>\n",
       "      <td>Kenya</td>\n",
       "      <td>No</td>\n",
       "      <td>Rural</td>\n",
       "      <td>Yes</td>\n",
       "      <td>5</td>\n",
       "      <td>34</td>\n",
       "      <td>Female</td>\n",
       "      <td>Head of Household</td>\n",
       "      <td>Married/Living together</td>\n",
       "      <td>Primary education</td>\n",
       "      <td>Formally employed Private</td>\n",
       "    </tr>\n",
       "    <tr>\n",
       "      <th>4</th>\n",
       "      <td>uniqueid_5 x Kenya</td>\n",
       "      <td>Kenya</td>\n",
       "      <td>No</td>\n",
       "      <td>Urban</td>\n",
       "      <td>No</td>\n",
       "      <td>8</td>\n",
       "      <td>26</td>\n",
       "      <td>Male</td>\n",
       "      <td>Child</td>\n",
       "      <td>Single/Never Married</td>\n",
       "      <td>Primary education</td>\n",
       "      <td>Informally employed</td>\n",
       "    </tr>\n",
       "  </tbody>\n",
       "</table>\n",
       "</div>"
      ],
      "text/plain": [
       "            unique_id country bank_account location_type cellphone_access  \\\n",
       "0  uniqueid_1 x Kenya   Kenya          Yes         Rural              Yes   \n",
       "1  uniqueid_2 x Kenya   Kenya           No         Rural               No   \n",
       "2  uniqueid_3 x Kenya   Kenya          Yes         Urban              Yes   \n",
       "3  uniqueid_4 x Kenya   Kenya           No         Rural              Yes   \n",
       "4  uniqueid_5 x Kenya   Kenya           No         Urban               No   \n",
       "\n",
       "   household_size  age_of_respondent gender_of_respondent  \\\n",
       "0               3                 24               Female   \n",
       "1               5                 70               Female   \n",
       "2               5                 26                 Male   \n",
       "3               5                 34               Female   \n",
       "4               8                 26                 Male   \n",
       "\n",
       "  relationship_with_head           marital_status  \\\n",
       "0                 Spouse  Married/Living together   \n",
       "1      Head of Household                  Widowed   \n",
       "2         Other relative     Single/Never Married   \n",
       "3      Head of Household  Married/Living together   \n",
       "4                  Child     Single/Never Married   \n",
       "\n",
       "                   education_level                   job_type  \n",
       "0              Secondary education              Self employed  \n",
       "1              No formal education       Government Dependent  \n",
       "2  Vocational/Specialised training              Self employed  \n",
       "3                Primary education  Formally employed Private  \n",
       "4                Primary education        Informally employed  "
      ]
     },
     "execution_count": 8,
     "metadata": {},
     "output_type": "execute_result"
    }
   ],
   "source": [
    "df_train.head()"
   ]
  },
  {
   "cell_type": "code",
   "execution_count": 9,
   "id": "b42c5b7a-0ec1-4296-8103-70337c875768",
   "metadata": {},
   "outputs": [
    {
     "data": {
      "text/plain": [
       "unique_id                 23524\n",
       "country                       4\n",
       "bank_account                  2\n",
       "location_type                 2\n",
       "cellphone_access              2\n",
       "household_size               20\n",
       "age_of_respondent            85\n",
       "gender_of_respondent          2\n",
       "relationship_with_head        6\n",
       "marital_status                5\n",
       "education_level               6\n",
       "job_type                     10\n",
       "dtype: int64"
      ]
     },
     "execution_count": 9,
     "metadata": {},
     "output_type": "execute_result"
    }
   ],
   "source": [
    "#check unique values for each column\n",
    "df_train.nunique()"
   ]
  },
  {
   "cell_type": "code",
   "execution_count": 10,
   "id": "71d0462d-820f-4252-8bac-1c0f0a0d4d28",
   "metadata": {},
   "outputs": [
    {
     "data": {
      "text/plain": [
       "unique_id                 0.0\n",
       "country                   0.0\n",
       "bank_account              0.0\n",
       "location_type             0.0\n",
       "cellphone_access          0.0\n",
       "household_size            0.0\n",
       "age_of_respondent         0.0\n",
       "gender_of_respondent      0.0\n",
       "relationship_with_head    0.0\n",
       "marital_status            0.0\n",
       "education_level           0.0\n",
       "job_type                  0.0\n",
       "dtype: float64"
      ]
     },
     "execution_count": 10,
     "metadata": {},
     "output_type": "execute_result"
    }
   ],
   "source": [
    "#checking the percentage of missing values per columns\n",
    "df_missing=(df_train.isnull().sum())*100/len(df_train)\n",
    "df_missing"
   ]
  },
  {
   "cell_type": "code",
   "execution_count": 11,
   "id": "79c0f46e-c111-4f34-82d3-e446fd42bab0",
   "metadata": {},
   "outputs": [
    {
     "name": "stderr",
     "output_type": "stream",
     "text": [
      "C:\\Users\\aurel\\anaconda3\\lib\\site-packages\\dython\\nominal.py:137: RuntimeWarning: Unable to calculate Cramer's V using bias correction. Consider using bias_correction=False (or cramers_v_bias_correction=False if calling from associations)\n",
      "  warnings.warn(\n"
     ]
    },
    {
     "data": {
      "image/png": "[encoded data removed]",
      "text/plain": [
       "<Figure size 1152x576 with 2 Axes>"
      ]
     },
     "metadata": {
      "needs_background": "light"
     },
     "output_type": "display_data"
    }
   ],
   "source": [
    "# using dython library\n",
    "from dython.nominal import associations\n",
    "# Step 1: Instantiate a figure and axis object\n",
    "fig, ax = plt.subplots(figsize=(16, 8))\n",
    "# Step 2: Creating a pair-wise correlation plot \n",
    "# Saving it into a variable(r)\n",
    "r = associations(df_train, ax = ax, cmap = \"Blues\")"
   ]
  },
  {
   "cell_type": "code",
   "execution_count": 12,
   "id": "ae94ba9f-27e5-4792-a5c1-dd27506a3571",
   "metadata": {},
   "outputs": [
    {
     "data": {
      "image/png": "[encoded data removed]",
      "text/plain": [
       "<Figure size 720x432 with 1 Axes>"
      ]
     },
     "metadata": {
      "needs_background": "light"
     },
     "output_type": "display_data"
    }
   ],
   "source": [
    "#count plot first violation type testset\n",
    "plt.figure(figsize=(10,6))\n",
    "sns.set_theme(style=\"darkgrid\")\n",
    "ax = sns.countplot(x=\"bank_account\", data=df_train)"
   ]
  },
  {
   "cell_type": "code",
   "execution_count": 13,
   "id": "876f8383-0334-4813-a7bf-d3167dcf9263",
   "metadata": {},
   "outputs": [],
   "source": [
    "from imblearn.over_sampling import SMOTE"
   ]
  },
  {
   "cell_type": "code",
   "execution_count": 14,
   "id": "7f108242-d5ec-4c27-b11d-8dc9b0757d49",
   "metadata": {},
   "outputs": [
    {
     "data": {
      "text/plain": [
       "<AxesSubplot:xlabel='country', ylabel='Count'>"
      ]
     },
     "execution_count": 14,
     "metadata": {},
     "output_type": "execute_result"
    },
    {
     "data": {
      "image/png": "[encoded data removed]",
      "text/plain": [
       "<Figure size 432x288 with 1 Axes>"
      ]
     },
     "metadata": {},
     "output_type": "display_data"
    }
   ],
   "source": [
    "sns.histplot(binwidth=0.5, x=\"country\", hue=\"bank_account\", data=df_train, stat=\"count\", multiple=\"dodge\")\n"
   ]
  },
  {
   "cell_type": "code",
   "execution_count": 15,
   "id": "a7405334-3c83-4530-920a-55f5278bb0ec",
   "metadata": {},
   "outputs": [
    {
     "data": {
      "text/plain": [
       "<AxesSubplot:xlabel='location_type', ylabel='Count'>"
      ]
     },
     "execution_count": 15,
     "metadata": {},
     "output_type": "execute_result"
    },
    {
     "data": {
      "image/png": "[encoded data removed]",
      "text/plain": [
       "<Figure size 432x288 with 1 Axes>"
      ]
     },
     "metadata": {},
     "output_type": "display_data"
    }
   ],
   "source": [
    "import matplotlib.pyplot as plt\n",
    "import seaborn as sns\n",
    "sns.histplot(binwidth=0.5, x=\"location_type\", hue=\"bank_account\", data=df_train, stat=\"count\", multiple=\"dodge\")\n"
   ]
  },
  {
   "cell_type": "code",
   "execution_count": 16,
   "id": "ed0a75f5-44b1-4c25-8b59-751a847a79bc",
   "metadata": {},
   "outputs": [
    {
     "data": {
      "text/plain": [
       "<AxesSubplot:xlabel='cellphone_access', ylabel='Count'>"
      ]
     },
     "execution_count": 16,
     "metadata": {},
     "output_type": "execute_result"
    },
    {
     "data": {
      "image/png": "[encoded data removed]",
      "text/plain": [
       "<Figure size 432x288 with 1 Axes>"
      ]
     },
     "metadata": {},
     "output_type": "display_data"
    }
   ],
   "source": [
    "sns.histplot(binwidth=0.5, x=\"cellphone_access\", hue=\"bank_account\", data=df_train, stat=\"count\", multiple=\"dodge\")"
   ]
  },
  {
   "cell_type": "code",
   "execution_count": 17,
   "id": "ed4b7d58-1a1e-4bbd-8cb6-0b545630ee07",
   "metadata": {},
   "outputs": [
    {
     "data": {
      "text/plain": [
       "25.8034347900017"
      ]
     },
     "execution_count": 17,
     "metadata": {},
     "output_type": "execute_result"
    }
   ],
   "source": [
    "df_train[df_train[\"cellphone_access\"]==\"No\"].shape[0] *100/df_train.shape[0]"
   ]
  },
  {
   "cell_type": "code",
   "execution_count": 18,
   "id": "98c3d11d-3dd7-4c35-9f61-6b2eef7540a1",
   "metadata": {},
   "outputs": [
    {
     "data": {
      "text/plain": [
       "<Figure size 72x7200 with 0 Axes>"
      ]
     },
     "execution_count": 18,
     "metadata": {},
     "output_type": "execute_result"
    },
    {
     "data": {
      "image/png": "[encoded data removed]",
      "text/plain": [
       "<Figure size 432x288 with 1 Axes>"
      ]
     },
     "metadata": {},
     "output_type": "display_data"
    },
    {
     "data": {
      "text/plain": [
       "<Figure size 72x7200 with 0 Axes>"
      ]
     },
     "metadata": {},
     "output_type": "display_data"
    }
   ],
   "source": [
    "import matplotlib.pyplot as plt\n",
    "#df_train.reset_index('age_of_respondent', inplace=True)\n",
    "df_train.groupby('bank_account').household_size.plot(kind='kde',legend=True)\n",
    "plt.figure(figsize=(1,100))"
   ]
  },
  {
   "cell_type": "code",
   "execution_count": 19,
   "id": "20d92ad7-788a-4b1f-b2f7-d4dc24bc8167",
   "metadata": {},
   "outputs": [],
   "source": [
    "#df_train=df_train[(df_train['household_size']>0)&(df_train['household_size']<11)]"
   ]
  },
  {
   "cell_type": "code",
   "execution_count": 20,
   "id": "bfcfbea3-8805-43a4-b495-bd35647a7ecd",
   "metadata": {},
   "outputs": [
    {
     "data": {
      "text/plain": [
       "<Figure size 72x7200 with 0 Axes>"
      ]
     },
     "execution_count": 20,
     "metadata": {},
     "output_type": "execute_result"
    },
    {
     "data": {
      "image/png": "[encoded data removed]",
      "text/plain": [
       "<Figure size 432x288 with 1 Axes>"
      ]
     },
     "metadata": {},
     "output_type": "display_data"
    },
    {
     "data": {
      "text/plain": [
       "<Figure size 72x7200 with 0 Axes>"
      ]
     },
     "metadata": {},
     "output_type": "display_data"
    }
   ],
   "source": [
    "df_train.groupby('bank_account').age_of_respondent.plot(kind='kde',legend=True)\n",
    "plt.figure(figsize=(1,100))"
   ]
  },
  {
   "cell_type": "markdown",
   "id": "23836286-6127-424b-9ba8-3bc3591fe2fc",
   "metadata": {},
   "source": [
    "##### 6068 kenya\n",
    "##### 8735 Rwanda\n",
    "##### 6620 Tanzania\n",
    "##### 2101 Uganda"
   ]
  },
  {
   "cell_type": "code",
   "execution_count": 21,
   "id": "38d985af-ae61-4813-a9ed-d253690ddb1b",
   "metadata": {},
   "outputs": [
    {
     "data": {
      "text/plain": [
       "60.97177350790682"
      ]
     },
     "execution_count": 21,
     "metadata": {},
     "output_type": "execute_result"
    }
   ],
   "source": [
    "df_train[df_train[\"location_type\"]==\"Rural\"].shape[0] *100/df_train.shape[0]"
   ]
  },
  {
   "cell_type": "markdown",
   "id": "9a9eb769-64b8-49a6-9ba8-1cf2dbe311d8",
   "metadata": {},
   "source": [
    "###### 60.97 % interviewees are from Rural location"
   ]
  },
  {
   "cell_type": "code",
   "execution_count": 22,
   "id": "31c0d633-a243-4d17-885b-59263502273d",
   "metadata": {},
   "outputs": [
    {
     "data": {
      "text/plain": [
       "85.66685746994848"
      ]
     },
     "execution_count": 22,
     "metadata": {},
     "output_type": "execute_result"
    }
   ],
   "source": [
    "df_Rwanda=df_train[df_train[\"country\"]==\"Rwanda\"]\n",
    "df_Rwanda[df_Rwanda[\"location_type\"]==\"Rural\"].shape[0] *100/df_Rwanda.shape[0]"
   ]
  },
  {
   "cell_type": "code",
   "execution_count": 23,
   "id": "1f4d8f4d-55d9-493f-a02f-77b96f3fa755",
   "metadata": {},
   "outputs": [
    {
     "data": {
      "text/plain": [
       "<AxesSubplot:xlabel='location_type', ylabel='Count'>"
      ]
     },
     "execution_count": 23,
     "metadata": {},
     "output_type": "execute_result"
    },
    {
     "data": {
      "image/png": "[encoded data removed]",
      "text/plain": [
       "<Figure size 432x288 with 1 Axes>"
      ]
     },
     "metadata": {},
     "output_type": "display_data"
    }
   ],
   "source": [
    "sns.histplot(binwidth=0.5, x=\"location_type\", hue=\"bank_account\", data=df_Rwanda, stat=\"count\", multiple=\"dodge\")\n"
   ]
  },
  {
   "cell_type": "code",
   "execution_count": 24,
   "id": "f5f602e8-7f22-429b-be40-b1363b78ea04",
   "metadata": {},
   "outputs": [
    {
     "data": {
      "text/plain": [
       "27.326283987915406"
      ]
     },
     "execution_count": 24,
     "metadata": {},
     "output_type": "execute_result"
    }
   ],
   "source": [
    "df_Tanzania=df_train[df_train[\"country\"]==\"Tanzania\"]\n",
    "df_Tanzania[df_Tanzania[\"location_type\"]==\"Rural\"].shape[0] *100/df_Tanzania.shape[0]"
   ]
  },
  {
   "cell_type": "code",
   "execution_count": 25,
   "id": "13f450b1-3b29-4c20-9181-e1a40505b3f9",
   "metadata": {},
   "outputs": [
    {
     "data": {
      "text/plain": [
       "<AxesSubplot:xlabel='location_type', ylabel='Count'>"
      ]
     },
     "execution_count": 25,
     "metadata": {},
     "output_type": "execute_result"
    },
    {
     "data": {
      "image/png": "[encoded data removed]",
      "text/plain": [
       "<Figure size 432x288 with 1 Axes>"
      ]
     },
     "metadata": {},
     "output_type": "display_data"
    }
   ],
   "source": [
    "sns.histplot(binwidth=0.5, x=\"location_type\", hue=\"bank_account\", data=df_Tanzania, stat=\"count\", multiple=\"dodge\")\n"
   ]
  },
  {
   "cell_type": "code",
   "execution_count": 26,
   "id": "05c76d99-c636-43f6-aec8-20f2dc8915ab",
   "metadata": {},
   "outputs": [
    {
     "data": {
      "text/plain": [
       "(38.479607250755286, 16)"
      ]
     },
     "execution_count": 26,
     "metadata": {},
     "output_type": "execute_result"
    }
   ],
   "source": [
    "df_Tanzania[\"age_of_respondent\"].mean(), df_Tanzania[\"age_of_respondent\"].min()"
   ]
  },
  {
   "cell_type": "code",
   "execution_count": 27,
   "id": "179ac918-b98e-4bc4-9cd3-ea15e28ffd3d",
   "metadata": {},
   "outputs": [
    {
     "data": {
      "text/plain": [
       "58.388266315095585"
      ]
     },
     "execution_count": 27,
     "metadata": {},
     "output_type": "execute_result"
    }
   ],
   "source": [
    "df_Kenya=df_train[df_train[\"country\"]==\"Kenya\"]\n",
    "df_Kenya[df_Kenya[\"location_type\"]==\"Rural\"].shape[0] *100/df_Kenya.shape[0]"
   ]
  },
  {
   "cell_type": "code",
   "execution_count": 28,
   "id": "46a2092d-02d5-4fbc-acae-c2dabb213c13",
   "metadata": {},
   "outputs": [
    {
     "data": {
      "text/plain": [
       "<AxesSubplot:xlabel='location_type', ylabel='Count'>"
      ]
     },
     "execution_count": 28,
     "metadata": {},
     "output_type": "execute_result"
    },
    {
     "data": {
      "image/png": "[encoded data removed]",
      "text/plain": [
       "<Figure size 432x288 with 1 Axes>"
      ]
     },
     "metadata": {},
     "output_type": "display_data"
    }
   ],
   "source": [
    "sns.histplot(binwidth=0.5, x=\"location_type\", hue=\"bank_account\", data=df_Kenya, stat=\"count\", multiple=\"dodge\")\n"
   ]
  },
  {
   "cell_type": "code",
   "execution_count": 29,
   "id": "93aa8837-c6c9-4287-a82a-1e474fa75308",
   "metadata": {},
   "outputs": [
    {
     "data": {
      "text/plain": [
       "71.77534507377439"
      ]
     },
     "execution_count": 29,
     "metadata": {},
     "output_type": "execute_result"
    }
   ],
   "source": [
    "df_Uganda=df_train[df_train[\"country\"]==\"Uganda\"]\n",
    "df_Uganda[df_Uganda[\"location_type\"]==\"Rural\"].shape[0] *100/df_Uganda.shape[0]\n"
   ]
  },
  {
   "cell_type": "code",
   "execution_count": 30,
   "id": "13841e9d-a875-4abb-899f-9d69bdb06524",
   "metadata": {},
   "outputs": [
    {
     "data": {
      "text/plain": [
       "<AxesSubplot:xlabel='location_type', ylabel='Count'>"
      ]
     },
     "execution_count": 30,
     "metadata": {},
     "output_type": "execute_result"
    },
    {
     "data": {
      "image/png": "[encoded data removed]",
      "text/plain": [
       "<Figure size 432x288 with 1 Axes>"
      ]
     },
     "metadata": {},
     "output_type": "display_data"
    }
   ],
   "source": [
    "sns.histplot(binwidth=0.5, x=\"location_type\", hue=\"bank_account\", data=df_Uganda, stat=\"count\", multiple=\"dodge\")\n"
   ]
  },
  {
   "cell_type": "code",
   "execution_count": 31,
   "id": "14ca476f-ce4e-436f-8f1a-2ab1ad4bb468",
   "metadata": {},
   "outputs": [
    {
     "ename": "NameError",
     "evalue": "name 'x_train' is not defined",
     "output_type": "error",
     "traceback": [
      "\u001b[1;31m---------------------------------------------------------------------------\u001b[0m",
      "\u001b[1;31mNameError\u001b[0m                                 Traceback (most recent call last)",
      "\u001b[1;32m~\\AppData\\Local\\Temp/ipykernel_4132/1050729407.py\u001b[0m in \u001b[0;36m<module>\u001b[1;34m\u001b[0m\n\u001b[0;32m      1\u001b[0m \u001b[1;31m#X = df_train.loc[:, df_train.columns != 'bank_account']\u001b[0m\u001b[1;33m\u001b[0m\u001b[1;33m\u001b[0m\u001b[0m\n\u001b[1;32m----> 2\u001b[1;33m \u001b[0mx_train\u001b[0m\u001b[1;33m.\u001b[0m\u001b[0mhead\u001b[0m\u001b[1;33m(\u001b[0m\u001b[1;33m)\u001b[0m\u001b[1;33m\u001b[0m\u001b[1;33m\u001b[0m\u001b[0m\n\u001b[0m",
      "\u001b[1;31mNameError\u001b[0m: name 'x_train' is not defined"
     ]
    }
   ],
   "source": [
    " #X = df_train.loc[:, df_train.columns != 'bank_account']\n",
    "x_train.head()"
   ]
  },
  {
   "cell_type": "code",
   "execution_count": null,
   "id": "4baa0816-d24b-4db7-9441-5bff0189633d",
   "metadata": {},
   "outputs": [],
   "source": [
    "from sklearn.model_selection import train_test_split\n",
    "from sklearn import preprocessing\n",
    "from sklearn.linear_model import LogisticRegression\n",
    "from sklearn.linear_model import LinearRegression\n",
    "from sklearn.ensemble import RandomForestClassifier\n",
    "from sklearn.tree import DecisionTreeClassifier\n",
    "from sklearn.neighbors import KNeighborsClassifier\n",
    "from sklearn.ensemble import GradientBoostingRegressor\n",
    "from sklearn.svm import SVC\n",
    "from sklearn.metrics import mean_absolute_error"
   ]
  },
  {
   "cell_type": "code",
   "execution_count": null,
   "id": "865ae343-7867-4ffa-8493-eb52ed3d7e7f",
   "metadata": {},
   "outputs": [],
   "source": [
    "# split the data in target variable and other variables\n",
    "y = df_train['bank_account']\n",
    "X = df_train.loc[:, df_train.columns != 'bank_account']\n",
    "def convert_data(X):\n",
    "    \n",
    "    #identify all categorical variables\n",
    "    cat_columns = ['location_type','cellphone_access','gender_of_respondent']\n",
    "    #X['year'] = pd.Categorical(X.year)\n",
    "#convert all categorical variables to numeric\n",
    "    X[cat_columns] = X[cat_columns].apply(lambda x: pd.factorize(x)[0])\n",
    "    columns = X[X.columns[1:]].select_dtypes(['object']).columns\n",
    "    dummies=pd.get_dummies(X[columns])\n",
    "    X=pd.concat([X,dummies],axis=1)\n",
    "    unuseful_columns=['job_type_Dont Know/Refuse to answer','education_level_Other/Dont know/RTA','marital_status_Dont know']\n",
    "    X.drop(columns,axis=1,inplace=True)\n",
    "    #X.drop(unuseful_columns,axis=1,inplace=True)\n",
    "    X=X.set_index('unique_id')\n",
    "    return X\n",
    "X= convert_data(X)\n",
    "#converting continue output variable to categorical\n",
    "lab = preprocessing.LabelEncoder()\n",
    "y_transformed = lab.fit_transform(y)\n",
    "# split the data in train and test to start training the models\n",
    "x_train, x_test, y_train, y_test = train_test_split(X, y_transformed, test_size=0.2, random_state=0)\n",
    "   \n"
   ]
  },
  {
   "cell_type": "code",
   "execution_count": 32,
   "id": "0c85dfe8-51f2-4f3c-920d-078cb79663ba",
   "metadata": {},
   "outputs": [],
   "source": [
    "#sm = SMOTE(random_state=2)\n",
    "#X_train_res, y_train_res = sm.fit_resample(x_train, y_train.ravel())\n",
    "from imblearn.under_sampling import RandomUnderSampler, TomekLinks\n",
    "from imblearn.over_sampling import RandomOverSampler, SMOTE"
   ]
  },
  {
   "cell_type": "code",
   "execution_count": null,
   "id": "153b47db-cdb5-4131-b242-2246f878984c",
   "metadata": {},
   "outputs": [],
   "source": []
  },
  {
   "cell_type": "code",
   "execution_count": 33,
   "id": "35689cfc-6d86-44ae-b205-88a86eade9bd",
   "metadata": {},
   "outputs": [
    {
     "ename": "ModuleNotFoundError",
     "evalue": "No module named 'tensorflow'",
     "output_type": "error",
     "traceback": [
      "\u001b[1;31m---------------------------------------------------------------------------\u001b[0m",
      "\u001b[1;31mModuleNotFoundError\u001b[0m                       Traceback (most recent call last)",
      "\u001b[1;32m~\\AppData\\Local\\Temp/ipykernel_4132/1426772791.py\u001b[0m in \u001b[0;36m<module>\u001b[1;34m\u001b[0m\n\u001b[0;32m      4\u001b[0m \u001b[1;32mfrom\u001b[0m \u001b[0msklearn\u001b[0m\u001b[1;33m.\u001b[0m\u001b[0mmodel_selection\u001b[0m \u001b[1;32mimport\u001b[0m \u001b[0mRepeatedStratifiedKFold\u001b[0m\u001b[1;33m\u001b[0m\u001b[1;33m\u001b[0m\u001b[0m\n\u001b[0;32m      5\u001b[0m \u001b[1;31m# define evaluation procedure\u001b[0m\u001b[1;33m\u001b[0m\u001b[1;33m\u001b[0m\u001b[0m\n\u001b[1;32m----> 6\u001b[1;33m \u001b[1;32mimport\u001b[0m \u001b[0mkeras\u001b[0m\u001b[1;33m\u001b[0m\u001b[1;33m\u001b[0m\u001b[0m\n\u001b[0m\u001b[0;32m      7\u001b[0m \u001b[1;32mfrom\u001b[0m \u001b[0mkeras\u001b[0m\u001b[1;33m.\u001b[0m\u001b[0mmodels\u001b[0m \u001b[1;32mimport\u001b[0m \u001b[0mSequential\u001b[0m\u001b[1;33m\u001b[0m\u001b[1;33m\u001b[0m\u001b[0m\n\u001b[0;32m      8\u001b[0m \u001b[1;32mfrom\u001b[0m \u001b[0mkeras\u001b[0m\u001b[1;33m.\u001b[0m\u001b[0mlayers\u001b[0m \u001b[1;32mimport\u001b[0m \u001b[0mDense\u001b[0m\u001b[1;33m,\u001b[0m\u001b[0mDropout\u001b[0m\u001b[1;33m\u001b[0m\u001b[1;33m\u001b[0m\u001b[0m\n",
      "\u001b[1;32m~\\anaconda3\\lib\\site-packages\\keras\\__init__.py\u001b[0m in \u001b[0;36m<module>\u001b[1;34m\u001b[0m\n\u001b[0;32m     19\u001b[0m \"\"\"\n\u001b[0;32m     20\u001b[0m \u001b[1;31m# pylint: disable=unused-import\u001b[0m\u001b[1;33m\u001b[0m\u001b[1;33m\u001b[0m\u001b[0m\n\u001b[1;32m---> 21\u001b[1;33m \u001b[1;32mfrom\u001b[0m \u001b[0mtensorflow\u001b[0m\u001b[1;33m.\u001b[0m\u001b[0mpython\u001b[0m \u001b[1;32mimport\u001b[0m \u001b[0mtf2\u001b[0m\u001b[1;33m\u001b[0m\u001b[1;33m\u001b[0m\u001b[0m\n\u001b[0m\u001b[0;32m     22\u001b[0m \u001b[1;32mfrom\u001b[0m \u001b[0mkeras\u001b[0m \u001b[1;32mimport\u001b[0m \u001b[0mdistribute\u001b[0m\u001b[1;33m\u001b[0m\u001b[1;33m\u001b[0m\u001b[0m\n\u001b[0;32m     23\u001b[0m \u001b[1;33m\u001b[0m\u001b[0m\n",
      "\u001b[1;31mModuleNotFoundError\u001b[0m: No module named 'tensorflow'"
     ]
    }
   ],
   "source": [
    "#tl = TomekLinks()\n",
    "#X_train_res, y_train_res = tl.fit_resample(x_train, y_train)\n",
    "from sklearn.model_selection import cross_val_score\n",
    "from sklearn.model_selection import RepeatedStratifiedKFold\n",
    "# define evaluation procedure\n",
    "import keras\n",
    "from keras.models import Sequential\n",
    "from keras.layers import Dense,Dropout\n",
    "# Initialising the ANN\n",
    "classifier = Sequential()\n",
    "\n",
    "# Adding the input layer and the first hidden layer\n",
    "classifier.add(Dense(output_dim = 64, init = 'uniform', activation = 'relu', input_dim = 16))\n",
    "classifier.add(Dropout(0.2))\n",
    "\n",
    "\n",
    "# Adding the second hidden layer\n",
    "classifier.add(Dense(output_dim = 128, init = 'uniform',activation = 'relu'))\n",
    "classifier.add(Dropout(0.2))\n",
    "\n",
    "# Adding the output layer\n",
    "classifier.add(Dense(output_dim = 1, init = 'uniform',activation = 'sigmoid'))\n",
    "\n",
    "# Compiling the ANN\n",
    "classifier.compile(optimizer = 'adam', loss = 'binary_crossentropy', metrics = ['accuracy'])\n",
    "\n",
    "# Fitting the ANN to the Training set\n",
    "classifier.fit(x_train, y_train, batch_size = 8, nb_epoch = 100, validation_split=0.05)\n"
   ]
  },
  {
   "cell_type": "code",
   "execution_count": 100,
   "id": "95d42e80-66a9-4f0d-aeaf-d0e2d6efee98",
   "metadata": {},
   "outputs": [
    {
     "name": "stdout",
     "output_type": "stream",
     "text": [
      "[0.8870882  0.89080765 0.88416578 0.88390011 0.8812118  0.88841658\n",
      " 0.88549416 0.88257173 0.8881509  0.88254053 0.88629118 0.88575983\n",
      " 0.88868225 0.88310308 0.88440074]\n"
     ]
    }
   ],
   "source": [
    "print(scores)"
   ]
  },
  {
   "cell_type": "code",
   "execution_count": 98,
   "id": "0ed2a74a-e5cd-435e-93d1-887f745123f8",
   "metadata": {},
   "outputs": [
    {
     "name": "stdout",
     "output_type": "stream",
     "text": [
      " RMSE for train:0.11387427599766194\n",
      "RMSE for test :0.11902231668437832\n"
     ]
    },
    {
     "name": "stderr",
     "output_type": "stream",
     "text": [
      "C:\\Users\\aurel\\anaconda3\\lib\\site-packages\\sklearn\\linear_model\\_logistic.py:444: ConvergenceWarning: lbfgs failed to converge (status=1):\n",
      "STOP: TOTAL NO. of ITERATIONS REACHED LIMIT.\n",
      "\n",
      "Increase the number of iterations (max_iter) or scale the data as shown in:\n",
      "    https://scikit-learn.org/stable/modules/preprocessing.html\n",
      "Please also refer to the documentation for alternative solver options:\n",
      "    https://scikit-learn.org/stable/modules/linear_model.html#logistic-regression\n",
      "  n_iter_i = _check_optimize_result(\n"
     ]
    }
   ],
   "source": [
    "#svr_rbf = SVC(kernel=\"rbf\", C=100, gamma=0.1).fit(x_train, y_train)C=35,intercept_scaling=1\n",
    "svr_rbf = LogisticRegression(C=122,intercept_scaling=1).fit(x_train, y_train)\n",
    "y_train_pred=svr_rbf.predict(x_train)\n",
    "y_test_pred=svr_rbf.predict(x_test)\n",
    "from sklearn.metrics import mean_squared_error\n",
    "rmse_train = mean_absolute_error(y_train,y_train_pred)#, squared = False\n",
    "rmse_test = mean_squared_error(y_test,y_test_pred)\n",
    "print(' RMSE for train:'+str(rmse_train))\n",
    "print('RMSE for test :'+str(rmse_test))"
   ]
  },
  {
   "cell_type": "code",
   "execution_count": 64,
   "id": "94ed737a-a0ed-4b42-92cc-013e0d972cd7",
   "metadata": {},
   "outputs": [
    {
     "data": {
      "text/plain": [
       "array([ 0.02451271,  0.19818148,  0.11876531, ...,  0.19351619,\n",
       "       -0.01239536,  0.09335704])"
      ]
     },
     "execution_count": 64,
     "metadata": {},
     "output_type": "execute_result"
    }
   ],
   "source": [
    "y_train_pred"
   ]
  },
  {
   "cell_type": "code",
   "execution_count": 56,
   "id": "0090e095-29b6-4460-a48c-3d8b9eaec0a8",
   "metadata": {},
   "outputs": [],
   "source": [
    "def clean_test(df_test):\n",
    "    df_test=createcolum(df_test)\n",
    "    df_test=convert_data(df_test)\n",
    "    return df_test\n",
    "\n",
    "df_test=clean_test(df_test)\n"
   ]
  },
  {
   "cell_type": "code",
   "execution_count": 57,
   "id": "49811d62-dd6c-41ec-829d-717b2e7509d9",
   "metadata": {},
   "outputs": [],
   "source": [
    "cat_columns = df_test[df_test.columns[1:]].select_dtypes(['object']).columns\n",
    "df_test[cat_columns] = df_test[cat_columns].apply(lambda x: pd.factorize(x)[0])\n",
    "#df_test.set_index('unique_id')"
   ]
  },
  {
   "cell_type": "code",
   "execution_count": 58,
   "id": "b9c2b93d-bff9-4c06-b95d-1e6546cdaa24",
   "metadata": {},
   "outputs": [
    {
     "ename": "KeyError",
     "evalue": "\"None of ['unique_id'] are in the columns\"",
     "output_type": "error",
     "traceback": [
      "\u001b[1;31m---------------------------------------------------------------------------\u001b[0m",
      "\u001b[1;31mKeyError\u001b[0m                                  Traceback (most recent call last)",
      "\u001b[1;32m~\\AppData\\Local\\Temp/ipykernel_17000/3465823335.py\u001b[0m in \u001b[0;36m<module>\u001b[1;34m\u001b[0m\n\u001b[1;32m----> 1\u001b[1;33m \u001b[0mdf_test\u001b[0m\u001b[1;33m=\u001b[0m\u001b[0mdf_test\u001b[0m\u001b[1;33m.\u001b[0m\u001b[0mset_index\u001b[0m\u001b[1;33m(\u001b[0m\u001b[1;34m'unique_id'\u001b[0m\u001b[1;33m)\u001b[0m\u001b[1;33m\u001b[0m\u001b[1;33m\u001b[0m\u001b[0m\n\u001b[0m",
      "\u001b[1;32m~\\anaconda3\\lib\\site-packages\\pandas\\util\\_decorators.py\u001b[0m in \u001b[0;36mwrapper\u001b[1;34m(*args, **kwargs)\u001b[0m\n\u001b[0;32m    309\u001b[0m                     \u001b[0mstacklevel\u001b[0m\u001b[1;33m=\u001b[0m\u001b[0mstacklevel\u001b[0m\u001b[1;33m,\u001b[0m\u001b[1;33m\u001b[0m\u001b[1;33m\u001b[0m\u001b[0m\n\u001b[0;32m    310\u001b[0m                 )\n\u001b[1;32m--> 311\u001b[1;33m             \u001b[1;32mreturn\u001b[0m \u001b[0mfunc\u001b[0m\u001b[1;33m(\u001b[0m\u001b[1;33m*\u001b[0m\u001b[0margs\u001b[0m\u001b[1;33m,\u001b[0m \u001b[1;33m**\u001b[0m\u001b[0mkwargs\u001b[0m\u001b[1;33m)\u001b[0m\u001b[1;33m\u001b[0m\u001b[1;33m\u001b[0m\u001b[0m\n\u001b[0m\u001b[0;32m    312\u001b[0m \u001b[1;33m\u001b[0m\u001b[0m\n\u001b[0;32m    313\u001b[0m         \u001b[1;32mreturn\u001b[0m \u001b[0mwrapper\u001b[0m\u001b[1;33m\u001b[0m\u001b[1;33m\u001b[0m\u001b[0m\n",
      "\u001b[1;32m~\\anaconda3\\lib\\site-packages\\pandas\\core\\frame.py\u001b[0m in \u001b[0;36mset_index\u001b[1;34m(self, keys, drop, append, inplace, verify_integrity)\u001b[0m\n\u001b[0;32m   5449\u001b[0m \u001b[1;33m\u001b[0m\u001b[0m\n\u001b[0;32m   5450\u001b[0m         \u001b[1;32mif\u001b[0m \u001b[0mmissing\u001b[0m\u001b[1;33m:\u001b[0m\u001b[1;33m\u001b[0m\u001b[1;33m\u001b[0m\u001b[0m\n\u001b[1;32m-> 5451\u001b[1;33m             \u001b[1;32mraise\u001b[0m \u001b[0mKeyError\u001b[0m\u001b[1;33m(\u001b[0m\u001b[1;34mf\"None of {missing} are in the columns\"\u001b[0m\u001b[1;33m)\u001b[0m\u001b[1;33m\u001b[0m\u001b[1;33m\u001b[0m\u001b[0m\n\u001b[0m\u001b[0;32m   5452\u001b[0m \u001b[1;33m\u001b[0m\u001b[0m\n\u001b[0;32m   5453\u001b[0m         \u001b[1;32mif\u001b[0m \u001b[0minplace\u001b[0m\u001b[1;33m:\u001b[0m\u001b[1;33m\u001b[0m\u001b[1;33m\u001b[0m\u001b[0m\n",
      "\u001b[1;31mKeyError\u001b[0m: \"None of ['unique_id'] are in the columns\""
     ]
    }
   ],
   "source": [
    "df_test=df_test.set_index('unique_id')"
   ]
  },
  {
   "cell_type": "code",
   "execution_count": 80,
   "id": "4c6249c0-8618-4f7d-a9a8-b47eec1ed85c",
   "metadata": {},
   "outputs": [
    {
     "data": {
      "text/html": [
       "<div>\n",
       "<style scoped>\n",
       "    .dataframe tbody tr th:only-of-type {\n",
       "        vertical-align: middle;\n",
       "    }\n",
       "\n",
       "    .dataframe tbody tr th {\n",
       "        vertical-align: top;\n",
       "    }\n",
       "\n",
       "    .dataframe thead th {\n",
       "        text-align: right;\n",
       "    }\n",
       "</style>\n",
       "<table border=\"1\" class=\"dataframe\">\n",
       "  <thead>\n",
       "    <tr style=\"text-align: right;\">\n",
       "      <th></th>\n",
       "      <th>bank_account</th>\n",
       "    </tr>\n",
       "    <tr>\n",
       "      <th>unique_id</th>\n",
       "      <th></th>\n",
       "    </tr>\n",
       "  </thead>\n",
       "  <tbody>\n",
       "    <tr>\n",
       "      <th>uniqueid_6056 x Kenya</th>\n",
       "      <td>1</td>\n",
       "    </tr>\n",
       "    <tr>\n",
       "      <th>uniqueid_6060 x Kenya</th>\n",
       "      <td>1</td>\n",
       "    </tr>\n",
       "    <tr>\n",
       "      <th>uniqueid_6065 x Kenya</th>\n",
       "      <td>0</td>\n",
       "    </tr>\n",
       "    <tr>\n",
       "      <th>uniqueid_6072 x Kenya</th>\n",
       "      <td>0</td>\n",
       "    </tr>\n",
       "    <tr>\n",
       "      <th>uniqueid_6073 x Kenya</th>\n",
       "      <td>0</td>\n",
       "    </tr>\n",
       "    <tr>\n",
       "      <th>...</th>\n",
       "      <td>...</td>\n",
       "    </tr>\n",
       "    <tr>\n",
       "      <th>uniqueid_2998 x Uganda</th>\n",
       "      <td>0</td>\n",
       "    </tr>\n",
       "    <tr>\n",
       "      <th>uniqueid_2999 x Uganda</th>\n",
       "      <td>0</td>\n",
       "    </tr>\n",
       "    <tr>\n",
       "      <th>uniqueid_3000 x Uganda</th>\n",
       "      <td>0</td>\n",
       "    </tr>\n",
       "    <tr>\n",
       "      <th>uniqueid_3001 x Uganda</th>\n",
       "      <td>0</td>\n",
       "    </tr>\n",
       "    <tr>\n",
       "      <th>uniqueid_3002 x Uganda</th>\n",
       "      <td>0</td>\n",
       "    </tr>\n",
       "  </tbody>\n",
       "</table>\n",
       "<p>10086 rows × 1 columns</p>\n",
       "</div>"
      ],
      "text/plain": [
       "                        bank_account\n",
       "unique_id                           \n",
       "uniqueid_6056 x Kenya              1\n",
       "uniqueid_6060 x Kenya              1\n",
       "uniqueid_6065 x Kenya              0\n",
       "uniqueid_6072 x Kenya              0\n",
       "uniqueid_6073 x Kenya              0\n",
       "...                              ...\n",
       "uniqueid_2998 x Uganda             0\n",
       "uniqueid_2999 x Uganda             0\n",
       "uniqueid_3000 x Uganda             0\n",
       "uniqueid_3001 x Uganda             0\n",
       "uniqueid_3002 x Uganda             0\n",
       "\n",
       "[10086 rows x 1 columns]"
      ]
     },
     "execution_count": 80,
     "metadata": {},
     "output_type": "execute_result"
    }
   ],
   "source": [
    "# prediction using ordinary least square\n",
    "test_pred = svr_rbf.predict(df_test)\n",
    "# create our new two variables\n",
    "df_test['bank_account'] = test_pred\n",
    "predictions=df_test['bank_account']\n",
    "predictions=pd.DataFrame(predictions)\n",
    "#predictions = predictions.fillna(df.median())\n",
    "predictions.to_csv('predictions_FIA.csv')\n",
    "predictions"
   ]
  },
  {
   "cell_type": "code",
   "execution_count": 158,
   "id": "c848d7be-b3f8-4c5c-a63a-535234ff57c2",
   "metadata": {},
   "outputs": [
    {
     "data": {
      "text/html": [
       "<div>\n",
       "<style scoped>\n",
       "    .dataframe tbody tr th:only-of-type {\n",
       "        vertical-align: middle;\n",
       "    }\n",
       "\n",
       "    .dataframe tbody tr th {\n",
       "        vertical-align: top;\n",
       "    }\n",
       "\n",
       "    .dataframe thead th {\n",
       "        text-align: right;\n",
       "    }\n",
       "</style>\n",
       "<table border=\"1\" class=\"dataframe\">\n",
       "  <thead>\n",
       "    <tr style=\"text-align: right;\">\n",
       "      <th></th>\n",
       "      <th>bank_account</th>\n",
       "    </tr>\n",
       "    <tr>\n",
       "      <th>unique_id</th>\n",
       "      <th></th>\n",
       "    </tr>\n",
       "  </thead>\n",
       "  <tbody>\n",
       "    <tr>\n",
       "      <th>uniqueid_7867 x Kenya</th>\n",
       "      <td>0</td>\n",
       "    </tr>\n",
       "  </tbody>\n",
       "</table>\n",
       "</div>"
      ],
      "text/plain": [
       "                       bank_account\n",
       "unique_id                          \n",
       "uniqueid_7867 x Kenya             0"
      ]
     },
     "execution_count": 158,
     "metadata": {},
     "output_type": "execute_result"
    }
   ],
   "source": [
    "predictions[predictions.index=='uniqueid_7867 x Kenya']"
   ]
  },
  {
   "cell_type": "code",
   "execution_count": 79,
   "id": "2e8ab9c6-5b4c-4d91-a81e-8deab993a7de",
   "metadata": {},
   "outputs": [],
   "source": [
    "df_test.drop('bank_account',axis=1,inplace=True)"
   ]
  },
  {
   "cell_type": "code",
   "execution_count": 165,
   "id": "a7c3ead0-4b15-4d85-abb5-1174ab4b9598",
   "metadata": {},
   "outputs": [
    {
     "data": {
      "text/plain": [
       "['a', 'b']"
      ]
     },
     "execution_count": 165,
     "metadata": {},
     "output_type": "execute_result"
    }
   ],
   "source": [
    "['a']+['b']"
   ]
  },
  {
   "cell_type": "code",
   "execution_count": null,
   "id": "e6d95265-2103-40d8-bfff-b94b4aad865a",
   "metadata": {},
   "outputs": [],
   "source": []
  }
 ],
 "metadata": {
  "kernelspec": {
   "display_name": "Python 3 (ipykernel)",
   "language": "python",
   "name": "python3"
  },
  "language_info": {
   "codemirror_mode": {
    "name": "ipython",
    "version": 3
   },
   "file_extension": ".py",
   "mimetype": "text/x-python",
   "name": "python",
   "nbconvert_exporter": "python",
   "pygments_lexer": "ipython3",
   "version": "3.9.7"
  }
 },
 "nbformat": 4,
 "nbformat_minor": 5
}
